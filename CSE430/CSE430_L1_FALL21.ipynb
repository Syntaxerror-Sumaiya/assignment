{
  "nbformat": 4,
  "nbformat_minor": 0,
  "metadata": {
    "colab": {
      "name": "Lexical_Analyzer.ipynb",
      "provenance": [],
      "collapsed_sections": []
    },
    "kernelspec": {
      "name": "python3",
      "display_name": "Python 3"
    },
    "language_info": {
      "name": "python"
    }
  },
  "cells": [
    {
      "cell_type": "markdown",
      "source": [
        "**CSE430**\n",
        "```\n",
        "UNIVERSITY OF ASIA PACIFIC\n",
        "HASAN TAHSIN RAFSAN\n",
        "FALL 2021\n",
        "Lab Problem 1\n",
        "24 JANUARY 2022\n",
        "```"
      ],
      "metadata": {
        "id": "IkIX_-_2mWGh"
      }
    },
    {
      "cell_type": "code",
      "execution_count": null,
      "metadata": {
        "colab": {
          "base_uri": "https://localhost:8080/"
        },
        "id": "zzKtbQJtc7vf",
        "outputId": "137354bb-1f2f-4dae-d428-b1d8333852db"
      },
      "outputs": [
        {
          "output_type": "stream",
          "name": "stdout",
          "text": [
            "Enter String Input: a 1b\n",
            "Keyword (0) : []\n",
            "\n",
            "Identifier (1): ['a']\n",
            "\n",
            "Arithmetic Operator (0): []\n",
            "\n",
            "Constant (0): []\n",
            "\n",
            "Punctuation (0): []\n",
            "\n"
          ]
        }
      ],
      "source": [
        "#re = regular expression & nltk importing\n",
        "import re, nltk\n",
        "\n",
        "\n",
        "#defining of variables, keytypes, operators & so on....\n",
        "#keywords = 24+4, artitmmatic, logical, punctuations \n",
        "Identifiers, Keywords,Punctuations,Arithmetic_Operators,Logical_Operators,Constants,Parenthesis= [],[],[],[],[],[],[]\n",
        "assign_Keywords = \"auto|break|case|char|const|continue|default|do|double|else|enum|extern|float|for|goto|if|int|long|register|return|short|signd|sizeof|static|struct|switch|typedef|union|unsigned|void|volatile|while|string|class|struct|include\"\n",
        "assign_Arrithmetic_Operators = \"(\\+)|(-)|(=)|(\\*)|(/)|(%)\"\n",
        "assign_Constants = \"^(\\d+)$\" # positive clouser +\n",
        "assign_Punctuations = \"[\\[@&~!#$\\^\\|{}\\]:;<>?,\\.']|\\(\\)|\\(|\\)|{}|\\[\\]|\\\"\"\n",
        "assign_Identifiers = \"^[a-zA-Z_]+[a-zA-Z0-9_]*\" # * kleene clouser\n",
        "assign_Logical_Operators = \"(\\==)|(<=)|(>=)\"\n",
        "assign_Parenthesis =\"\\{}|\\[]|\\(\\)\"\n",
        "\n",
        "\n",
        "#function of removing space & comments\n",
        "def remove_Spaces(program):\n",
        "    scanned_Program = []\n",
        "    for line in program:\n",
        "        if (line.strip() != ''): scanned_Program.append(line.strip()) #line strp = remove extra space of line & then return result\n",
        "    return scanned_Program \n",
        "\n",
        "def remove_Comments(program):\n",
        "    program_Multi_Comments_Removed = re.sub(\"/\\*[^*]*\\*+(?:[^/*][^*]*\\*+)*/\", \"\", program) #for multi line comment /*......*/ this type\n",
        "    program_Single_Comments_Removed = re.sub(\"//.*\", \"\", program_Multi_Comments_Removed) #for single line comment // this type\n",
        "    #re.sub = regular exprestion of subtraction... filter out the comments.. then update the program & return\n",
        "    program_Comments_removed = program_Single_Comments_Removed \n",
        "    return program_Comments_removed\n",
        "\n",
        "\n",
        "#main funtion\n",
        "def main(program):\n",
        "  prog = remove_Comments(program).split('\\n')\n",
        "  scanned_Program = '\\n'.join([str(elem) for elem in remove_Spaces(prog)])\n",
        "  scanned_Program_lines = scanned_Program.split('\\n')\n",
        "\n",
        "  Source_File = []\n",
        "  count = 0\n",
        "\n",
        "  for line in scanned_Program_lines:\n",
        "    Source_File.append(line)\n",
        "\n",
        "  for line in Source_File:\n",
        "      count = count + 1  #increase line no of code\n",
        "      \n",
        "      if(line.startswith(\"include\")):\n",
        "          tokens = nltk.word_tokenize(line) #Return a tokenized copy of text.. like \"i\" \"am\" \"rafsan\"\n",
        "      else:\n",
        "          tokens = nltk.wordpunct_tokenize(line) #return tokenize copy of string... like \"it\" 'is' \"8\" \"am\"\n",
        "      \n",
        "      for token in tokens:\n",
        "          if(re.findall(assign_Keywords, token)):\n",
        "              Keywords.append(token)\n",
        "          elif (re.findall(assign_Arrithmetic_Operators, token)):\n",
        "              Arithmetic_Operators.append(token)\n",
        "          elif (re.findall(assign_Constants,token)):\n",
        "              Constants.append(token)\n",
        "          elif (re.findall(assign_Punctuations, token)):\n",
        "              Punctuations.append(token)\n",
        "          elif (re.findall(assign_Identifiers, token)):\n",
        "              Identifiers.append(token)\n",
        "\n",
        "  output = \"Keyword (%s) : %s\\n\\nIdentifier (%s): %s\\n\\nArithmetic Operator (%s): %s\\n\\nConstant (%s): %s\\n\\nPunctuation (%s): %s\\n\" % (len(Keywords),Keywords,len(Identifiers),Identifiers,len(Arithmetic_Operators),Arithmetic_Operators,len(Constants),Constants,len(Punctuations),Punctuations)\n",
        "  print(output)\n",
        "\n",
        "\n",
        "if __name__ == '__main__':\n",
        "  run = input(\"Enter String Input: \")\n",
        "  main(run)\n"
      ]
    },
    {
      "cell_type": "code",
      "source": [
        "# elif (re.findall(assign_Logical_Operators, token)):\n",
        "          #   Logical_Operators.append(token)\n",
        "          # elif (re.findall(assign_Parenthesis, token)):\n",
        "          #   Parenthesis.append(token)\n",
        "          #\\nLogical Operators ( %s ): %s\\n\\nParenthesis ( %s ): %s\\n..... ,len(Logical_Operators),Logical_Operators,len(Parenthesis),Parenthesis"
      ],
      "metadata": {
        "id": "kOm0LjcqS_lq"
      },
      "execution_count": null,
      "outputs": []
    }
  ]
}