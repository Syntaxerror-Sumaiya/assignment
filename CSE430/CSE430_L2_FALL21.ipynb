{
  "nbformat": 4,
  "nbformat_minor": 0,
  "metadata": {
    "colab": {
      "name": "18101009_A1_L2_430.ipynb",
      "provenance": [],
      "collapsed_sections": []
    },
    "kernelspec": {
      "name": "python3",
      "display_name": "Python 3"
    },
    "language_info": {
      "name": "python"
    }
  },
  "cells": [
    {
      "cell_type": "markdown",
      "source": [
        "**CSE430**\n",
        "```\n",
        "UNIVERSITY OF ASIA PACIFIC\n",
        "HASAN TAHSIN RAFSAN\n",
        "FALL 2021\n",
        "Lab Problem 2\n",
        "14 FEBRUARY 2022\n",
        "```"
      ],
      "metadata": {
        "id": "e8-Hs1qei7no"
      }
    },
    {
      "cell_type": "code",
      "execution_count": null,
      "metadata": {
        "id": "qY9FwOSCpsVI"
      },
      "outputs": [],
      "source": [
        "import pandas as pd"
      ]
    },
    {
      "cell_type": "code",
      "source": [
        "df = pd.DataFrame(columns=['Name', 'Type'])\n",
        "df.head()"
      ],
      "metadata": {
        "colab": {
          "base_uri": "https://localhost:8080/",
          "height": 49
        },
        "id": "tRYULD59qA-x",
        "outputId": "939234a1-5c73-4a91-d55d-d7333add218f"
      },
      "execution_count": null,
      "outputs": [
        {
          "output_type": "execute_result",
          "data": {
            "text/html": [
              "\n",
              "  <div id=\"df-8da2f253-66ac-4a0b-ae67-8fc18753f962\">\n",
              "    <div class=\"colab-df-container\">\n",
              "      <div>\n",
              "<style scoped>\n",
              "    .dataframe tbody tr th:only-of-type {\n",
              "        vertical-align: middle;\n",
              "    }\n",
              "\n",
              "    .dataframe tbody tr th {\n",
              "        vertical-align: top;\n",
              "    }\n",
              "\n",
              "    .dataframe thead th {\n",
              "        text-align: right;\n",
              "    }\n",
              "</style>\n",
              "<table border=\"1\" class=\"dataframe\">\n",
              "  <thead>\n",
              "    <tr style=\"text-align: right;\">\n",
              "      <th></th>\n",
              "      <th>Name</th>\n",
              "      <th>Type</th>\n",
              "    </tr>\n",
              "  </thead>\n",
              "  <tbody>\n",
              "  </tbody>\n",
              "</table>\n",
              "</div>\n",
              "      <button class=\"colab-df-convert\" onclick=\"convertToInteractive('df-8da2f253-66ac-4a0b-ae67-8fc18753f962')\"\n",
              "              title=\"Convert this dataframe to an interactive table.\"\n",
              "              style=\"display:none;\">\n",
              "        \n",
              "  <svg xmlns=\"http://www.w3.org/2000/svg\" height=\"24px\"viewBox=\"0 0 24 24\"\n",
              "       width=\"24px\">\n",
              "    <path d=\"M0 0h24v24H0V0z\" fill=\"none\"/>\n",
              "    <path d=\"M18.56 5.44l.94 2.06.94-2.06 2.06-.94-2.06-.94-.94-2.06-.94 2.06-2.06.94zm-11 1L8.5 8.5l.94-2.06 2.06-.94-2.06-.94L8.5 2.5l-.94 2.06-2.06.94zm10 10l.94 2.06.94-2.06 2.06-.94-2.06-.94-.94-2.06-.94 2.06-2.06.94z\"/><path d=\"M17.41 7.96l-1.37-1.37c-.4-.4-.92-.59-1.43-.59-.52 0-1.04.2-1.43.59L10.3 9.45l-7.72 7.72c-.78.78-.78 2.05 0 2.83L4 21.41c.39.39.9.59 1.41.59.51 0 1.02-.2 1.41-.59l7.78-7.78 2.81-2.81c.8-.78.8-2.07 0-2.86zM5.41 20L4 18.59l7.72-7.72 1.47 1.35L5.41 20z\"/>\n",
              "  </svg>\n",
              "      </button>\n",
              "      \n",
              "  <style>\n",
              "    .colab-df-container {\n",
              "      display:flex;\n",
              "      flex-wrap:wrap;\n",
              "      gap: 12px;\n",
              "    }\n",
              "\n",
              "    .colab-df-convert {\n",
              "      background-color: #E8F0FE;\n",
              "      border: none;\n",
              "      border-radius: 50%;\n",
              "      cursor: pointer;\n",
              "      display: none;\n",
              "      fill: #1967D2;\n",
              "      height: 32px;\n",
              "      padding: 0 0 0 0;\n",
              "      width: 32px;\n",
              "    }\n",
              "\n",
              "    .colab-df-convert:hover {\n",
              "      background-color: #E2EBFA;\n",
              "      box-shadow: 0px 1px 2px rgba(60, 64, 67, 0.3), 0px 1px 3px 1px rgba(60, 64, 67, 0.15);\n",
              "      fill: #174EA6;\n",
              "    }\n",
              "\n",
              "    [theme=dark] .colab-df-convert {\n",
              "      background-color: #3B4455;\n",
              "      fill: #D2E3FC;\n",
              "    }\n",
              "\n",
              "    [theme=dark] .colab-df-convert:hover {\n",
              "      background-color: #434B5C;\n",
              "      box-shadow: 0px 1px 3px 1px rgba(0, 0, 0, 0.15);\n",
              "      filter: drop-shadow(0px 1px 2px rgba(0, 0, 0, 0.3));\n",
              "      fill: #FFFFFF;\n",
              "    }\n",
              "  </style>\n",
              "\n",
              "      <script>\n",
              "        const buttonEl =\n",
              "          document.querySelector('#df-8da2f253-66ac-4a0b-ae67-8fc18753f962 button.colab-df-convert');\n",
              "        buttonEl.style.display =\n",
              "          google.colab.kernel.accessAllowed ? 'block' : 'none';\n",
              "\n",
              "        async function convertToInteractive(key) {\n",
              "          const element = document.querySelector('#df-8da2f253-66ac-4a0b-ae67-8fc18753f962');\n",
              "          const dataTable =\n",
              "            await google.colab.kernel.invokeFunction('convertToInteractive',\n",
              "                                                     [key], {});\n",
              "          if (!dataTable) return;\n",
              "\n",
              "          const docLinkHtml = 'Like what you see? Visit the ' +\n",
              "            '<a target=\"_blank\" href=https://colab.research.google.com/notebooks/data_table.ipynb>data table notebook</a>'\n",
              "            + ' to learn more about interactive tables.';\n",
              "          element.innerHTML = '';\n",
              "          dataTable['output_type'] = 'display_data';\n",
              "          await google.colab.output.renderOutput(dataTable, element);\n",
              "          const docLink = document.createElement('div');\n",
              "          docLink.innerHTML = docLinkHtml;\n",
              "          element.appendChild(docLink);\n",
              "        }\n",
              "      </script>\n",
              "    </div>\n",
              "  </div>\n",
              "  "
            ],
            "text/plain": [
              "Empty DataFrame\n",
              "Columns: [Name, Type]\n",
              "Index: []"
            ]
          },
          "metadata": {},
          "execution_count": 2
        }
      ]
    },
    {
      "cell_type": "code",
      "source": [
        "#name, type\n",
        "#1. insert function\n",
        "\n",
        "def insert(df, name, t):\n",
        "    if (name not in df.Name.values) or (t not in df.Type.values):  #if both are not found in dataframe table...\n",
        "        df.loc[-1] = [name, t] #hashcode generate here .......\n",
        "        df.index = df.index + 1 #update the index number\n",
        "        df = df.sort_index() #sorting location\n",
        "    return df"
      ],
      "metadata": {
        "id": "0UWcN5oKqFno"
      },
      "execution_count": null,
      "outputs": []
    },
    {
      "cell_type": "code",
      "source": [
        "#2. search function according to name\n",
        "\n",
        "def search(df, name):\n",
        "    return df.loc[df['Name'] == name] # for type search... \"['Type'] == t...\""
      ],
      "metadata": {
        "id": "KgUSbhOzrDWL"
      },
      "execution_count": null,
      "outputs": []
    },
    {
      "cell_type": "code",
      "source": [
        "#3. delete function according to name\n",
        "\n",
        "def delete(df, name):\n",
        "\n",
        "    try:\n",
        "        indx = df.loc[df['Name'] == name].index[0]\n",
        "        df.drop([indx], axis=0, inplace= True) #remove labels of table columns or rows ... axis 0 =rows, axis 1= columns...\n",
        "        df.reset_index (inplace = True) #change or remove the index\n",
        "        df.drop('index', axis=1, inplace =True)\n",
        "        return df\n",
        "\n",
        "    except:\n",
        "        print('Name Not Exist')\n",
        "        return df"
      ],
      "metadata": {
        "id": "wQLF0x50rNEx"
      },
      "execution_count": null,
      "outputs": []
    },
    {
      "cell_type": "code",
      "source": [
        "#4. show function\n",
        "\n",
        "def show():\n",
        "    print(df)"
      ],
      "metadata": {
        "id": "cDQmq1TAyJ27"
      },
      "execution_count": null,
      "outputs": []
    },
    {
      "cell_type": "code",
      "source": [
        "#5. update function\n",
        "\n",
        "def update(df, name=None, new_name=None, t=None, new_t =None):\n",
        "    \n",
        "    if name:\n",
        "        if name in df.Name.values:\n",
        "            df.loc[df.Name == name,'Name'] = new_name #1st block for name\n",
        "    if t:\n",
        "        if t in df.Type.values:\n",
        "            df.loc[df.Type == t,'Type'] = new_t #2nd block for type\n",
        "\n",
        "    return df"
      ],
      "metadata": {
        "id": "ae8WhlDLrlws"
      },
      "execution_count": null,
      "outputs": []
    },
    {
      "cell_type": "code",
      "source": [
        "#6. getHash function\n",
        "\n",
        "def getHashKey(df, name):\n",
        "    return df.loc[df['Name'] == name].index[0] #return dataframe location against name... for type t, \"Type\""
      ],
      "metadata": {
        "id": "bc8lRqXwtTbh"
      },
      "execution_count": null,
      "outputs": []
    },
    {
      "cell_type": "code",
      "source": [
        "#insert values in table\n",
        "\n",
        "df = insert(df,'int','INTEGER')\n",
        "df = insert(df,'myFunction','FUNCTION')\n",
        "df = insert(df,'x','ID')\n",
        "df = insert(df,'5','NUM')\n",
        "df"
      ],
      "metadata": {
        "colab": {
          "base_uri": "https://localhost:8080/",
          "height": 175
        },
        "id": "JLj0S23LtmMp",
        "outputId": "05bbe779-7f27-45f1-ddee-9fa341361e7f"
      },
      "execution_count": null,
      "outputs": [
        {
          "output_type": "execute_result",
          "data": {
            "text/html": [
              "\n",
              "  <div id=\"df-4296d9af-078c-43a7-a5ba-162c26387608\">\n",
              "    <div class=\"colab-df-container\">\n",
              "      <div>\n",
              "<style scoped>\n",
              "    .dataframe tbody tr th:only-of-type {\n",
              "        vertical-align: middle;\n",
              "    }\n",
              "\n",
              "    .dataframe tbody tr th {\n",
              "        vertical-align: top;\n",
              "    }\n",
              "\n",
              "    .dataframe thead th {\n",
              "        text-align: right;\n",
              "    }\n",
              "</style>\n",
              "<table border=\"1\" class=\"dataframe\">\n",
              "  <thead>\n",
              "    <tr style=\"text-align: right;\">\n",
              "      <th></th>\n",
              "      <th>Name</th>\n",
              "      <th>Type</th>\n",
              "    </tr>\n",
              "  </thead>\n",
              "  <tbody>\n",
              "    <tr>\n",
              "      <th>0</th>\n",
              "      <td>5</td>\n",
              "      <td>NUM</td>\n",
              "    </tr>\n",
              "    <tr>\n",
              "      <th>1</th>\n",
              "      <td>x</td>\n",
              "      <td>ID</td>\n",
              "    </tr>\n",
              "    <tr>\n",
              "      <th>2</th>\n",
              "      <td>myFunction</td>\n",
              "      <td>FUNCTION</td>\n",
              "    </tr>\n",
              "    <tr>\n",
              "      <th>3</th>\n",
              "      <td>int</td>\n",
              "      <td>INTEGER</td>\n",
              "    </tr>\n",
              "  </tbody>\n",
              "</table>\n",
              "</div>\n",
              "      <button class=\"colab-df-convert\" onclick=\"convertToInteractive('df-4296d9af-078c-43a7-a5ba-162c26387608')\"\n",
              "              title=\"Convert this dataframe to an interactive table.\"\n",
              "              style=\"display:none;\">\n",
              "        \n",
              "  <svg xmlns=\"http://www.w3.org/2000/svg\" height=\"24px\"viewBox=\"0 0 24 24\"\n",
              "       width=\"24px\">\n",
              "    <path d=\"M0 0h24v24H0V0z\" fill=\"none\"/>\n",
              "    <path d=\"M18.56 5.44l.94 2.06.94-2.06 2.06-.94-2.06-.94-.94-2.06-.94 2.06-2.06.94zm-11 1L8.5 8.5l.94-2.06 2.06-.94-2.06-.94L8.5 2.5l-.94 2.06-2.06.94zm10 10l.94 2.06.94-2.06 2.06-.94-2.06-.94-.94-2.06-.94 2.06-2.06.94z\"/><path d=\"M17.41 7.96l-1.37-1.37c-.4-.4-.92-.59-1.43-.59-.52 0-1.04.2-1.43.59L10.3 9.45l-7.72 7.72c-.78.78-.78 2.05 0 2.83L4 21.41c.39.39.9.59 1.41.59.51 0 1.02-.2 1.41-.59l7.78-7.78 2.81-2.81c.8-.78.8-2.07 0-2.86zM5.41 20L4 18.59l7.72-7.72 1.47 1.35L5.41 20z\"/>\n",
              "  </svg>\n",
              "      </button>\n",
              "      \n",
              "  <style>\n",
              "    .colab-df-container {\n",
              "      display:flex;\n",
              "      flex-wrap:wrap;\n",
              "      gap: 12px;\n",
              "    }\n",
              "\n",
              "    .colab-df-convert {\n",
              "      background-color: #E8F0FE;\n",
              "      border: none;\n",
              "      border-radius: 50%;\n",
              "      cursor: pointer;\n",
              "      display: none;\n",
              "      fill: #1967D2;\n",
              "      height: 32px;\n",
              "      padding: 0 0 0 0;\n",
              "      width: 32px;\n",
              "    }\n",
              "\n",
              "    .colab-df-convert:hover {\n",
              "      background-color: #E2EBFA;\n",
              "      box-shadow: 0px 1px 2px rgba(60, 64, 67, 0.3), 0px 1px 3px 1px rgba(60, 64, 67, 0.15);\n",
              "      fill: #174EA6;\n",
              "    }\n",
              "\n",
              "    [theme=dark] .colab-df-convert {\n",
              "      background-color: #3B4455;\n",
              "      fill: #D2E3FC;\n",
              "    }\n",
              "\n",
              "    [theme=dark] .colab-df-convert:hover {\n",
              "      background-color: #434B5C;\n",
              "      box-shadow: 0px 1px 3px 1px rgba(0, 0, 0, 0.15);\n",
              "      filter: drop-shadow(0px 1px 2px rgba(0, 0, 0, 0.3));\n",
              "      fill: #FFFFFF;\n",
              "    }\n",
              "  </style>\n",
              "\n",
              "      <script>\n",
              "        const buttonEl =\n",
              "          document.querySelector('#df-4296d9af-078c-43a7-a5ba-162c26387608 button.colab-df-convert');\n",
              "        buttonEl.style.display =\n",
              "          google.colab.kernel.accessAllowed ? 'block' : 'none';\n",
              "\n",
              "        async function convertToInteractive(key) {\n",
              "          const element = document.querySelector('#df-4296d9af-078c-43a7-a5ba-162c26387608');\n",
              "          const dataTable =\n",
              "            await google.colab.kernel.invokeFunction('convertToInteractive',\n",
              "                                                     [key], {});\n",
              "          if (!dataTable) return;\n",
              "\n",
              "          const docLinkHtml = 'Like what you see? Visit the ' +\n",
              "            '<a target=\"_blank\" href=https://colab.research.google.com/notebooks/data_table.ipynb>data table notebook</a>'\n",
              "            + ' to learn more about interactive tables.';\n",
              "          element.innerHTML = '';\n",
              "          dataTable['output_type'] = 'display_data';\n",
              "          await google.colab.output.renderOutput(dataTable, element);\n",
              "          const docLink = document.createElement('div');\n",
              "          docLink.innerHTML = docLinkHtml;\n",
              "          element.appendChild(docLink);\n",
              "        }\n",
              "      </script>\n",
              "    </div>\n",
              "  </div>\n",
              "  "
            ],
            "text/plain": [
              "         Name      Type\n",
              "0           5       NUM\n",
              "1           x        ID\n",
              "2  myFunction  FUNCTION\n",
              "3         int   INTEGER"
            ]
          },
          "metadata": {},
          "execution_count": 9
        }
      ]
    },
    {
      "cell_type": "code",
      "source": [
        "#insert any new value into previous table\n",
        "\n",
        "df = insert(df, 'x', 'STRING')\n",
        "df"
      ],
      "metadata": {
        "colab": {
          "base_uri": "https://localhost:8080/",
          "height": 206
        },
        "id": "ITFMc5yBtaWU",
        "outputId": "bc52032e-509f-4332-c654-51dcc306d9ca"
      },
      "execution_count": null,
      "outputs": [
        {
          "output_type": "execute_result",
          "data": {
            "text/html": [
              "\n",
              "  <div id=\"df-a9a261ba-fb13-4903-97a4-e8a19a37f7fa\">\n",
              "    <div class=\"colab-df-container\">\n",
              "      <div>\n",
              "<style scoped>\n",
              "    .dataframe tbody tr th:only-of-type {\n",
              "        vertical-align: middle;\n",
              "    }\n",
              "\n",
              "    .dataframe tbody tr th {\n",
              "        vertical-align: top;\n",
              "    }\n",
              "\n",
              "    .dataframe thead th {\n",
              "        text-align: right;\n",
              "    }\n",
              "</style>\n",
              "<table border=\"1\" class=\"dataframe\">\n",
              "  <thead>\n",
              "    <tr style=\"text-align: right;\">\n",
              "      <th></th>\n",
              "      <th>Name</th>\n",
              "      <th>Type</th>\n",
              "    </tr>\n",
              "  </thead>\n",
              "  <tbody>\n",
              "    <tr>\n",
              "      <th>0</th>\n",
              "      <td>x</td>\n",
              "      <td>STRING</td>\n",
              "    </tr>\n",
              "    <tr>\n",
              "      <th>1</th>\n",
              "      <td>5</td>\n",
              "      <td>NUM</td>\n",
              "    </tr>\n",
              "    <tr>\n",
              "      <th>2</th>\n",
              "      <td>x</td>\n",
              "      <td>ID</td>\n",
              "    </tr>\n",
              "    <tr>\n",
              "      <th>3</th>\n",
              "      <td>myFunction</td>\n",
              "      <td>FUNCTION</td>\n",
              "    </tr>\n",
              "    <tr>\n",
              "      <th>4</th>\n",
              "      <td>int</td>\n",
              "      <td>INTEGER</td>\n",
              "    </tr>\n",
              "  </tbody>\n",
              "</table>\n",
              "</div>\n",
              "      <button class=\"colab-df-convert\" onclick=\"convertToInteractive('df-a9a261ba-fb13-4903-97a4-e8a19a37f7fa')\"\n",
              "              title=\"Convert this dataframe to an interactive table.\"\n",
              "              style=\"display:none;\">\n",
              "        \n",
              "  <svg xmlns=\"http://www.w3.org/2000/svg\" height=\"24px\"viewBox=\"0 0 24 24\"\n",
              "       width=\"24px\">\n",
              "    <path d=\"M0 0h24v24H0V0z\" fill=\"none\"/>\n",
              "    <path d=\"M18.56 5.44l.94 2.06.94-2.06 2.06-.94-2.06-.94-.94-2.06-.94 2.06-2.06.94zm-11 1L8.5 8.5l.94-2.06 2.06-.94-2.06-.94L8.5 2.5l-.94 2.06-2.06.94zm10 10l.94 2.06.94-2.06 2.06-.94-2.06-.94-.94-2.06-.94 2.06-2.06.94z\"/><path d=\"M17.41 7.96l-1.37-1.37c-.4-.4-.92-.59-1.43-.59-.52 0-1.04.2-1.43.59L10.3 9.45l-7.72 7.72c-.78.78-.78 2.05 0 2.83L4 21.41c.39.39.9.59 1.41.59.51 0 1.02-.2 1.41-.59l7.78-7.78 2.81-2.81c.8-.78.8-2.07 0-2.86zM5.41 20L4 18.59l7.72-7.72 1.47 1.35L5.41 20z\"/>\n",
              "  </svg>\n",
              "      </button>\n",
              "      \n",
              "  <style>\n",
              "    .colab-df-container {\n",
              "      display:flex;\n",
              "      flex-wrap:wrap;\n",
              "      gap: 12px;\n",
              "    }\n",
              "\n",
              "    .colab-df-convert {\n",
              "      background-color: #E8F0FE;\n",
              "      border: none;\n",
              "      border-radius: 50%;\n",
              "      cursor: pointer;\n",
              "      display: none;\n",
              "      fill: #1967D2;\n",
              "      height: 32px;\n",
              "      padding: 0 0 0 0;\n",
              "      width: 32px;\n",
              "    }\n",
              "\n",
              "    .colab-df-convert:hover {\n",
              "      background-color: #E2EBFA;\n",
              "      box-shadow: 0px 1px 2px rgba(60, 64, 67, 0.3), 0px 1px 3px 1px rgba(60, 64, 67, 0.15);\n",
              "      fill: #174EA6;\n",
              "    }\n",
              "\n",
              "    [theme=dark] .colab-df-convert {\n",
              "      background-color: #3B4455;\n",
              "      fill: #D2E3FC;\n",
              "    }\n",
              "\n",
              "    [theme=dark] .colab-df-convert:hover {\n",
              "      background-color: #434B5C;\n",
              "      box-shadow: 0px 1px 3px 1px rgba(0, 0, 0, 0.15);\n",
              "      filter: drop-shadow(0px 1px 2px rgba(0, 0, 0, 0.3));\n",
              "      fill: #FFFFFF;\n",
              "    }\n",
              "  </style>\n",
              "\n",
              "      <script>\n",
              "        const buttonEl =\n",
              "          document.querySelector('#df-a9a261ba-fb13-4903-97a4-e8a19a37f7fa button.colab-df-convert');\n",
              "        buttonEl.style.display =\n",
              "          google.colab.kernel.accessAllowed ? 'block' : 'none';\n",
              "\n",
              "        async function convertToInteractive(key) {\n",
              "          const element = document.querySelector('#df-a9a261ba-fb13-4903-97a4-e8a19a37f7fa');\n",
              "          const dataTable =\n",
              "            await google.colab.kernel.invokeFunction('convertToInteractive',\n",
              "                                                     [key], {});\n",
              "          if (!dataTable) return;\n",
              "\n",
              "          const docLinkHtml = 'Like what you see? Visit the ' +\n",
              "            '<a target=\"_blank\" href=https://colab.research.google.com/notebooks/data_table.ipynb>data table notebook</a>'\n",
              "            + ' to learn more about interactive tables.';\n",
              "          element.innerHTML = '';\n",
              "          dataTable['output_type'] = 'display_data';\n",
              "          await google.colab.output.renderOutput(dataTable, element);\n",
              "          const docLink = document.createElement('div');\n",
              "          docLink.innerHTML = docLinkHtml;\n",
              "          element.appendChild(docLink);\n",
              "        }\n",
              "      </script>\n",
              "    </div>\n",
              "  </div>\n",
              "  "
            ],
            "text/plain": [
              "         Name      Type\n",
              "0           x    STRING\n",
              "1           5       NUM\n",
              "2           x        ID\n",
              "3  myFunction  FUNCTION\n",
              "4         int   INTEGER"
            ]
          },
          "metadata": {},
          "execution_count": 10
        }
      ]
    },
    {
      "cell_type": "code",
      "source": [
        "#searching against name\n",
        "\n",
        "search(df, 'x')"
      ],
      "metadata": {
        "colab": {
          "base_uri": "https://localhost:8080/",
          "height": 112
        },
        "id": "btBvZ6WmuGIL",
        "outputId": "250f269b-9e73-4d16-cf7a-7b41c7a411d3"
      },
      "execution_count": null,
      "outputs": [
        {
          "output_type": "execute_result",
          "data": {
            "text/html": [
              "\n",
              "  <div id=\"df-2d044b88-32b8-42c7-837c-8d8a1c96fd56\">\n",
              "    <div class=\"colab-df-container\">\n",
              "      <div>\n",
              "<style scoped>\n",
              "    .dataframe tbody tr th:only-of-type {\n",
              "        vertical-align: middle;\n",
              "    }\n",
              "\n",
              "    .dataframe tbody tr th {\n",
              "        vertical-align: top;\n",
              "    }\n",
              "\n",
              "    .dataframe thead th {\n",
              "        text-align: right;\n",
              "    }\n",
              "</style>\n",
              "<table border=\"1\" class=\"dataframe\">\n",
              "  <thead>\n",
              "    <tr style=\"text-align: right;\">\n",
              "      <th></th>\n",
              "      <th>Name</th>\n",
              "      <th>Type</th>\n",
              "    </tr>\n",
              "  </thead>\n",
              "  <tbody>\n",
              "    <tr>\n",
              "      <th>0</th>\n",
              "      <td>x</td>\n",
              "      <td>STRING</td>\n",
              "    </tr>\n",
              "    <tr>\n",
              "      <th>2</th>\n",
              "      <td>x</td>\n",
              "      <td>ID</td>\n",
              "    </tr>\n",
              "  </tbody>\n",
              "</table>\n",
              "</div>\n",
              "      <button class=\"colab-df-convert\" onclick=\"convertToInteractive('df-2d044b88-32b8-42c7-837c-8d8a1c96fd56')\"\n",
              "              title=\"Convert this dataframe to an interactive table.\"\n",
              "              style=\"display:none;\">\n",
              "        \n",
              "  <svg xmlns=\"http://www.w3.org/2000/svg\" height=\"24px\"viewBox=\"0 0 24 24\"\n",
              "       width=\"24px\">\n",
              "    <path d=\"M0 0h24v24H0V0z\" fill=\"none\"/>\n",
              "    <path d=\"M18.56 5.44l.94 2.06.94-2.06 2.06-.94-2.06-.94-.94-2.06-.94 2.06-2.06.94zm-11 1L8.5 8.5l.94-2.06 2.06-.94-2.06-.94L8.5 2.5l-.94 2.06-2.06.94zm10 10l.94 2.06.94-2.06 2.06-.94-2.06-.94-.94-2.06-.94 2.06-2.06.94z\"/><path d=\"M17.41 7.96l-1.37-1.37c-.4-.4-.92-.59-1.43-.59-.52 0-1.04.2-1.43.59L10.3 9.45l-7.72 7.72c-.78.78-.78 2.05 0 2.83L4 21.41c.39.39.9.59 1.41.59.51 0 1.02-.2 1.41-.59l7.78-7.78 2.81-2.81c.8-.78.8-2.07 0-2.86zM5.41 20L4 18.59l7.72-7.72 1.47 1.35L5.41 20z\"/>\n",
              "  </svg>\n",
              "      </button>\n",
              "      \n",
              "  <style>\n",
              "    .colab-df-container {\n",
              "      display:flex;\n",
              "      flex-wrap:wrap;\n",
              "      gap: 12px;\n",
              "    }\n",
              "\n",
              "    .colab-df-convert {\n",
              "      background-color: #E8F0FE;\n",
              "      border: none;\n",
              "      border-radius: 50%;\n",
              "      cursor: pointer;\n",
              "      display: none;\n",
              "      fill: #1967D2;\n",
              "      height: 32px;\n",
              "      padding: 0 0 0 0;\n",
              "      width: 32px;\n",
              "    }\n",
              "\n",
              "    .colab-df-convert:hover {\n",
              "      background-color: #E2EBFA;\n",
              "      box-shadow: 0px 1px 2px rgba(60, 64, 67, 0.3), 0px 1px 3px 1px rgba(60, 64, 67, 0.15);\n",
              "      fill: #174EA6;\n",
              "    }\n",
              "\n",
              "    [theme=dark] .colab-df-convert {\n",
              "      background-color: #3B4455;\n",
              "      fill: #D2E3FC;\n",
              "    }\n",
              "\n",
              "    [theme=dark] .colab-df-convert:hover {\n",
              "      background-color: #434B5C;\n",
              "      box-shadow: 0px 1px 3px 1px rgba(0, 0, 0, 0.15);\n",
              "      filter: drop-shadow(0px 1px 2px rgba(0, 0, 0, 0.3));\n",
              "      fill: #FFFFFF;\n",
              "    }\n",
              "  </style>\n",
              "\n",
              "      <script>\n",
              "        const buttonEl =\n",
              "          document.querySelector('#df-2d044b88-32b8-42c7-837c-8d8a1c96fd56 button.colab-df-convert');\n",
              "        buttonEl.style.display =\n",
              "          google.colab.kernel.accessAllowed ? 'block' : 'none';\n",
              "\n",
              "        async function convertToInteractive(key) {\n",
              "          const element = document.querySelector('#df-2d044b88-32b8-42c7-837c-8d8a1c96fd56');\n",
              "          const dataTable =\n",
              "            await google.colab.kernel.invokeFunction('convertToInteractive',\n",
              "                                                     [key], {});\n",
              "          if (!dataTable) return;\n",
              "\n",
              "          const docLinkHtml = 'Like what you see? Visit the ' +\n",
              "            '<a target=\"_blank\" href=https://colab.research.google.com/notebooks/data_table.ipynb>data table notebook</a>'\n",
              "            + ' to learn more about interactive tables.';\n",
              "          element.innerHTML = '';\n",
              "          dataTable['output_type'] = 'display_data';\n",
              "          await google.colab.output.renderOutput(dataTable, element);\n",
              "          const docLink = document.createElement('div');\n",
              "          docLink.innerHTML = docLinkHtml;\n",
              "          element.appendChild(docLink);\n",
              "        }\n",
              "      </script>\n",
              "    </div>\n",
              "  </div>\n",
              "  "
            ],
            "text/plain": [
              "  Name    Type\n",
              "0    x  STRING\n",
              "2    x      ID"
            ]
          },
          "metadata": {},
          "execution_count": 11
        }
      ]
    },
    {
      "cell_type": "code",
      "source": [
        "#delete any values against name\n",
        "\n",
        "df = delete(df, name='x')\n",
        "df"
      ],
      "metadata": {
        "colab": {
          "base_uri": "https://localhost:8080/",
          "height": 175
        },
        "id": "PgBF61EKu9dL",
        "outputId": "f22827f9-50dc-488f-f718-f8fd982dac60"
      },
      "execution_count": null,
      "outputs": [
        {
          "output_type": "execute_result",
          "data": {
            "text/html": [
              "\n",
              "  <div id=\"df-0c6c0fc1-d5ed-4e10-ada0-4c8abd6f3075\">\n",
              "    <div class=\"colab-df-container\">\n",
              "      <div>\n",
              "<style scoped>\n",
              "    .dataframe tbody tr th:only-of-type {\n",
              "        vertical-align: middle;\n",
              "    }\n",
              "\n",
              "    .dataframe tbody tr th {\n",
              "        vertical-align: top;\n",
              "    }\n",
              "\n",
              "    .dataframe thead th {\n",
              "        text-align: right;\n",
              "    }\n",
              "</style>\n",
              "<table border=\"1\" class=\"dataframe\">\n",
              "  <thead>\n",
              "    <tr style=\"text-align: right;\">\n",
              "      <th></th>\n",
              "      <th>Name</th>\n",
              "      <th>Type</th>\n",
              "    </tr>\n",
              "  </thead>\n",
              "  <tbody>\n",
              "    <tr>\n",
              "      <th>0</th>\n",
              "      <td>5</td>\n",
              "      <td>NUM</td>\n",
              "    </tr>\n",
              "    <tr>\n",
              "      <th>1</th>\n",
              "      <td>x</td>\n",
              "      <td>ID</td>\n",
              "    </tr>\n",
              "    <tr>\n",
              "      <th>2</th>\n",
              "      <td>myFunction</td>\n",
              "      <td>FUNCTION</td>\n",
              "    </tr>\n",
              "    <tr>\n",
              "      <th>3</th>\n",
              "      <td>int</td>\n",
              "      <td>INTEGER</td>\n",
              "    </tr>\n",
              "  </tbody>\n",
              "</table>\n",
              "</div>\n",
              "      <button class=\"colab-df-convert\" onclick=\"convertToInteractive('df-0c6c0fc1-d5ed-4e10-ada0-4c8abd6f3075')\"\n",
              "              title=\"Convert this dataframe to an interactive table.\"\n",
              "              style=\"display:none;\">\n",
              "        \n",
              "  <svg xmlns=\"http://www.w3.org/2000/svg\" height=\"24px\"viewBox=\"0 0 24 24\"\n",
              "       width=\"24px\">\n",
              "    <path d=\"M0 0h24v24H0V0z\" fill=\"none\"/>\n",
              "    <path d=\"M18.56 5.44l.94 2.06.94-2.06 2.06-.94-2.06-.94-.94-2.06-.94 2.06-2.06.94zm-11 1L8.5 8.5l.94-2.06 2.06-.94-2.06-.94L8.5 2.5l-.94 2.06-2.06.94zm10 10l.94 2.06.94-2.06 2.06-.94-2.06-.94-.94-2.06-.94 2.06-2.06.94z\"/><path d=\"M17.41 7.96l-1.37-1.37c-.4-.4-.92-.59-1.43-.59-.52 0-1.04.2-1.43.59L10.3 9.45l-7.72 7.72c-.78.78-.78 2.05 0 2.83L4 21.41c.39.39.9.59 1.41.59.51 0 1.02-.2 1.41-.59l7.78-7.78 2.81-2.81c.8-.78.8-2.07 0-2.86zM5.41 20L4 18.59l7.72-7.72 1.47 1.35L5.41 20z\"/>\n",
              "  </svg>\n",
              "      </button>\n",
              "      \n",
              "  <style>\n",
              "    .colab-df-container {\n",
              "      display:flex;\n",
              "      flex-wrap:wrap;\n",
              "      gap: 12px;\n",
              "    }\n",
              "\n",
              "    .colab-df-convert {\n",
              "      background-color: #E8F0FE;\n",
              "      border: none;\n",
              "      border-radius: 50%;\n",
              "      cursor: pointer;\n",
              "      display: none;\n",
              "      fill: #1967D2;\n",
              "      height: 32px;\n",
              "      padding: 0 0 0 0;\n",
              "      width: 32px;\n",
              "    }\n",
              "\n",
              "    .colab-df-convert:hover {\n",
              "      background-color: #E2EBFA;\n",
              "      box-shadow: 0px 1px 2px rgba(60, 64, 67, 0.3), 0px 1px 3px 1px rgba(60, 64, 67, 0.15);\n",
              "      fill: #174EA6;\n",
              "    }\n",
              "\n",
              "    [theme=dark] .colab-df-convert {\n",
              "      background-color: #3B4455;\n",
              "      fill: #D2E3FC;\n",
              "    }\n",
              "\n",
              "    [theme=dark] .colab-df-convert:hover {\n",
              "      background-color: #434B5C;\n",
              "      box-shadow: 0px 1px 3px 1px rgba(0, 0, 0, 0.15);\n",
              "      filter: drop-shadow(0px 1px 2px rgba(0, 0, 0, 0.3));\n",
              "      fill: #FFFFFF;\n",
              "    }\n",
              "  </style>\n",
              "\n",
              "      <script>\n",
              "        const buttonEl =\n",
              "          document.querySelector('#df-0c6c0fc1-d5ed-4e10-ada0-4c8abd6f3075 button.colab-df-convert');\n",
              "        buttonEl.style.display =\n",
              "          google.colab.kernel.accessAllowed ? 'block' : 'none';\n",
              "\n",
              "        async function convertToInteractive(key) {\n",
              "          const element = document.querySelector('#df-0c6c0fc1-d5ed-4e10-ada0-4c8abd6f3075');\n",
              "          const dataTable =\n",
              "            await google.colab.kernel.invokeFunction('convertToInteractive',\n",
              "                                                     [key], {});\n",
              "          if (!dataTable) return;\n",
              "\n",
              "          const docLinkHtml = 'Like what you see? Visit the ' +\n",
              "            '<a target=\"_blank\" href=https://colab.research.google.com/notebooks/data_table.ipynb>data table notebook</a>'\n",
              "            + ' to learn more about interactive tables.';\n",
              "          element.innerHTML = '';\n",
              "          dataTable['output_type'] = 'display_data';\n",
              "          await google.colab.output.renderOutput(dataTable, element);\n",
              "          const docLink = document.createElement('div');\n",
              "          docLink.innerHTML = docLinkHtml;\n",
              "          element.appendChild(docLink);\n",
              "        }\n",
              "      </script>\n",
              "    </div>\n",
              "  </div>\n",
              "  "
            ],
            "text/plain": [
              "         Name      Type\n",
              "0           5       NUM\n",
              "1           x        ID\n",
              "2  myFunction  FUNCTION\n",
              "3         int   INTEGER"
            ]
          },
          "metadata": {},
          "execution_count": 12
        }
      ]
    },
    {
      "cell_type": "code",
      "source": [
        "df"
      ],
      "metadata": {
        "colab": {
          "base_uri": "https://localhost:8080/",
          "height": 175
        },
        "id": "cezWepQSvUlk",
        "outputId": "4d2fe8ee-19fe-42b0-ef04-6775ef414cbe"
      },
      "execution_count": null,
      "outputs": [
        {
          "output_type": "execute_result",
          "data": {
            "text/html": [
              "\n",
              "  <div id=\"df-5b0e5f1f-aec8-4679-b996-cf92048fd9d0\">\n",
              "    <div class=\"colab-df-container\">\n",
              "      <div>\n",
              "<style scoped>\n",
              "    .dataframe tbody tr th:only-of-type {\n",
              "        vertical-align: middle;\n",
              "    }\n",
              "\n",
              "    .dataframe tbody tr th {\n",
              "        vertical-align: top;\n",
              "    }\n",
              "\n",
              "    .dataframe thead th {\n",
              "        text-align: right;\n",
              "    }\n",
              "</style>\n",
              "<table border=\"1\" class=\"dataframe\">\n",
              "  <thead>\n",
              "    <tr style=\"text-align: right;\">\n",
              "      <th></th>\n",
              "      <th>Name</th>\n",
              "      <th>Type</th>\n",
              "    </tr>\n",
              "  </thead>\n",
              "  <tbody>\n",
              "    <tr>\n",
              "      <th>0</th>\n",
              "      <td>5</td>\n",
              "      <td>NUM</td>\n",
              "    </tr>\n",
              "    <tr>\n",
              "      <th>1</th>\n",
              "      <td>x</td>\n",
              "      <td>ID</td>\n",
              "    </tr>\n",
              "    <tr>\n",
              "      <th>2</th>\n",
              "      <td>myFunction</td>\n",
              "      <td>FUNCTION</td>\n",
              "    </tr>\n",
              "    <tr>\n",
              "      <th>3</th>\n",
              "      <td>int</td>\n",
              "      <td>INTEGER</td>\n",
              "    </tr>\n",
              "  </tbody>\n",
              "</table>\n",
              "</div>\n",
              "      <button class=\"colab-df-convert\" onclick=\"convertToInteractive('df-5b0e5f1f-aec8-4679-b996-cf92048fd9d0')\"\n",
              "              title=\"Convert this dataframe to an interactive table.\"\n",
              "              style=\"display:none;\">\n",
              "        \n",
              "  <svg xmlns=\"http://www.w3.org/2000/svg\" height=\"24px\"viewBox=\"0 0 24 24\"\n",
              "       width=\"24px\">\n",
              "    <path d=\"M0 0h24v24H0V0z\" fill=\"none\"/>\n",
              "    <path d=\"M18.56 5.44l.94 2.06.94-2.06 2.06-.94-2.06-.94-.94-2.06-.94 2.06-2.06.94zm-11 1L8.5 8.5l.94-2.06 2.06-.94-2.06-.94L8.5 2.5l-.94 2.06-2.06.94zm10 10l.94 2.06.94-2.06 2.06-.94-2.06-.94-.94-2.06-.94 2.06-2.06.94z\"/><path d=\"M17.41 7.96l-1.37-1.37c-.4-.4-.92-.59-1.43-.59-.52 0-1.04.2-1.43.59L10.3 9.45l-7.72 7.72c-.78.78-.78 2.05 0 2.83L4 21.41c.39.39.9.59 1.41.59.51 0 1.02-.2 1.41-.59l7.78-7.78 2.81-2.81c.8-.78.8-2.07 0-2.86zM5.41 20L4 18.59l7.72-7.72 1.47 1.35L5.41 20z\"/>\n",
              "  </svg>\n",
              "      </button>\n",
              "      \n",
              "  <style>\n",
              "    .colab-df-container {\n",
              "      display:flex;\n",
              "      flex-wrap:wrap;\n",
              "      gap: 12px;\n",
              "    }\n",
              "\n",
              "    .colab-df-convert {\n",
              "      background-color: #E8F0FE;\n",
              "      border: none;\n",
              "      border-radius: 50%;\n",
              "      cursor: pointer;\n",
              "      display: none;\n",
              "      fill: #1967D2;\n",
              "      height: 32px;\n",
              "      padding: 0 0 0 0;\n",
              "      width: 32px;\n",
              "    }\n",
              "\n",
              "    .colab-df-convert:hover {\n",
              "      background-color: #E2EBFA;\n",
              "      box-shadow: 0px 1px 2px rgba(60, 64, 67, 0.3), 0px 1px 3px 1px rgba(60, 64, 67, 0.15);\n",
              "      fill: #174EA6;\n",
              "    }\n",
              "\n",
              "    [theme=dark] .colab-df-convert {\n",
              "      background-color: #3B4455;\n",
              "      fill: #D2E3FC;\n",
              "    }\n",
              "\n",
              "    [theme=dark] .colab-df-convert:hover {\n",
              "      background-color: #434B5C;\n",
              "      box-shadow: 0px 1px 3px 1px rgba(0, 0, 0, 0.15);\n",
              "      filter: drop-shadow(0px 1px 2px rgba(0, 0, 0, 0.3));\n",
              "      fill: #FFFFFF;\n",
              "    }\n",
              "  </style>\n",
              "\n",
              "      <script>\n",
              "        const buttonEl =\n",
              "          document.querySelector('#df-5b0e5f1f-aec8-4679-b996-cf92048fd9d0 button.colab-df-convert');\n",
              "        buttonEl.style.display =\n",
              "          google.colab.kernel.accessAllowed ? 'block' : 'none';\n",
              "\n",
              "        async function convertToInteractive(key) {\n",
              "          const element = document.querySelector('#df-5b0e5f1f-aec8-4679-b996-cf92048fd9d0');\n",
              "          const dataTable =\n",
              "            await google.colab.kernel.invokeFunction('convertToInteractive',\n",
              "                                                     [key], {});\n",
              "          if (!dataTable) return;\n",
              "\n",
              "          const docLinkHtml = 'Like what you see? Visit the ' +\n",
              "            '<a target=\"_blank\" href=https://colab.research.google.com/notebooks/data_table.ipynb>data table notebook</a>'\n",
              "            + ' to learn more about interactive tables.';\n",
              "          element.innerHTML = '';\n",
              "          dataTable['output_type'] = 'display_data';\n",
              "          await google.colab.output.renderOutput(dataTable, element);\n",
              "          const docLink = document.createElement('div');\n",
              "          docLink.innerHTML = docLinkHtml;\n",
              "          element.appendChild(docLink);\n",
              "        }\n",
              "      </script>\n",
              "    </div>\n",
              "  </div>\n",
              "  "
            ],
            "text/plain": [
              "         Name      Type\n",
              "0           5       NUM\n",
              "1           x        ID\n",
              "2  myFunction  FUNCTION\n",
              "3         int   INTEGER"
            ]
          },
          "metadata": {},
          "execution_count": 13
        }
      ]
    },
    {
      "cell_type": "code",
      "source": [
        "#updated data \n",
        "#1st block = old Name, 2nd block = replaced Type \n",
        "#3rd block = old Name, 4th block = replaced Type\n",
        "\n",
        "df = update(df, '5','9','NUM','Number')"
      ],
      "metadata": {
        "id": "UO2o7VIvvXpK"
      },
      "execution_count": null,
      "outputs": []
    },
    {
      "cell_type": "code",
      "source": [
        "df"
      ],
      "metadata": {
        "colab": {
          "base_uri": "https://localhost:8080/",
          "height": 175
        },
        "id": "YylhJ40Fvf_E",
        "outputId": "89691877-0ed8-48b6-d1fe-442a2373db6b"
      },
      "execution_count": null,
      "outputs": [
        {
          "output_type": "execute_result",
          "data": {
            "text/html": [
              "\n",
              "  <div id=\"df-72d21ab3-8bd1-4feb-8c36-edbe37c89f44\">\n",
              "    <div class=\"colab-df-container\">\n",
              "      <div>\n",
              "<style scoped>\n",
              "    .dataframe tbody tr th:only-of-type {\n",
              "        vertical-align: middle;\n",
              "    }\n",
              "\n",
              "    .dataframe tbody tr th {\n",
              "        vertical-align: top;\n",
              "    }\n",
              "\n",
              "    .dataframe thead th {\n",
              "        text-align: right;\n",
              "    }\n",
              "</style>\n",
              "<table border=\"1\" class=\"dataframe\">\n",
              "  <thead>\n",
              "    <tr style=\"text-align: right;\">\n",
              "      <th></th>\n",
              "      <th>Name</th>\n",
              "      <th>Type</th>\n",
              "    </tr>\n",
              "  </thead>\n",
              "  <tbody>\n",
              "    <tr>\n",
              "      <th>0</th>\n",
              "      <td>9</td>\n",
              "      <td>Number</td>\n",
              "    </tr>\n",
              "    <tr>\n",
              "      <th>1</th>\n",
              "      <td>x</td>\n",
              "      <td>ID</td>\n",
              "    </tr>\n",
              "    <tr>\n",
              "      <th>2</th>\n",
              "      <td>myFunction</td>\n",
              "      <td>FUNCTION</td>\n",
              "    </tr>\n",
              "    <tr>\n",
              "      <th>3</th>\n",
              "      <td>int</td>\n",
              "      <td>INTEGER</td>\n",
              "    </tr>\n",
              "  </tbody>\n",
              "</table>\n",
              "</div>\n",
              "      <button class=\"colab-df-convert\" onclick=\"convertToInteractive('df-72d21ab3-8bd1-4feb-8c36-edbe37c89f44')\"\n",
              "              title=\"Convert this dataframe to an interactive table.\"\n",
              "              style=\"display:none;\">\n",
              "        \n",
              "  <svg xmlns=\"http://www.w3.org/2000/svg\" height=\"24px\"viewBox=\"0 0 24 24\"\n",
              "       width=\"24px\">\n",
              "    <path d=\"M0 0h24v24H0V0z\" fill=\"none\"/>\n",
              "    <path d=\"M18.56 5.44l.94 2.06.94-2.06 2.06-.94-2.06-.94-.94-2.06-.94 2.06-2.06.94zm-11 1L8.5 8.5l.94-2.06 2.06-.94-2.06-.94L8.5 2.5l-.94 2.06-2.06.94zm10 10l.94 2.06.94-2.06 2.06-.94-2.06-.94-.94-2.06-.94 2.06-2.06.94z\"/><path d=\"M17.41 7.96l-1.37-1.37c-.4-.4-.92-.59-1.43-.59-.52 0-1.04.2-1.43.59L10.3 9.45l-7.72 7.72c-.78.78-.78 2.05 0 2.83L4 21.41c.39.39.9.59 1.41.59.51 0 1.02-.2 1.41-.59l7.78-7.78 2.81-2.81c.8-.78.8-2.07 0-2.86zM5.41 20L4 18.59l7.72-7.72 1.47 1.35L5.41 20z\"/>\n",
              "  </svg>\n",
              "      </button>\n",
              "      \n",
              "  <style>\n",
              "    .colab-df-container {\n",
              "      display:flex;\n",
              "      flex-wrap:wrap;\n",
              "      gap: 12px;\n",
              "    }\n",
              "\n",
              "    .colab-df-convert {\n",
              "      background-color: #E8F0FE;\n",
              "      border: none;\n",
              "      border-radius: 50%;\n",
              "      cursor: pointer;\n",
              "      display: none;\n",
              "      fill: #1967D2;\n",
              "      height: 32px;\n",
              "      padding: 0 0 0 0;\n",
              "      width: 32px;\n",
              "    }\n",
              "\n",
              "    .colab-df-convert:hover {\n",
              "      background-color: #E2EBFA;\n",
              "      box-shadow: 0px 1px 2px rgba(60, 64, 67, 0.3), 0px 1px 3px 1px rgba(60, 64, 67, 0.15);\n",
              "      fill: #174EA6;\n",
              "    }\n",
              "\n",
              "    [theme=dark] .colab-df-convert {\n",
              "      background-color: #3B4455;\n",
              "      fill: #D2E3FC;\n",
              "    }\n",
              "\n",
              "    [theme=dark] .colab-df-convert:hover {\n",
              "      background-color: #434B5C;\n",
              "      box-shadow: 0px 1px 3px 1px rgba(0, 0, 0, 0.15);\n",
              "      filter: drop-shadow(0px 1px 2px rgba(0, 0, 0, 0.3));\n",
              "      fill: #FFFFFF;\n",
              "    }\n",
              "  </style>\n",
              "\n",
              "      <script>\n",
              "        const buttonEl =\n",
              "          document.querySelector('#df-72d21ab3-8bd1-4feb-8c36-edbe37c89f44 button.colab-df-convert');\n",
              "        buttonEl.style.display =\n",
              "          google.colab.kernel.accessAllowed ? 'block' : 'none';\n",
              "\n",
              "        async function convertToInteractive(key) {\n",
              "          const element = document.querySelector('#df-72d21ab3-8bd1-4feb-8c36-edbe37c89f44');\n",
              "          const dataTable =\n",
              "            await google.colab.kernel.invokeFunction('convertToInteractive',\n",
              "                                                     [key], {});\n",
              "          if (!dataTable) return;\n",
              "\n",
              "          const docLinkHtml = 'Like what you see? Visit the ' +\n",
              "            '<a target=\"_blank\" href=https://colab.research.google.com/notebooks/data_table.ipynb>data table notebook</a>'\n",
              "            + ' to learn more about interactive tables.';\n",
              "          element.innerHTML = '';\n",
              "          dataTable['output_type'] = 'display_data';\n",
              "          await google.colab.output.renderOutput(dataTable, element);\n",
              "          const docLink = document.createElement('div');\n",
              "          docLink.innerHTML = docLinkHtml;\n",
              "          element.appendChild(docLink);\n",
              "        }\n",
              "      </script>\n",
              "    </div>\n",
              "  </div>\n",
              "  "
            ],
            "text/plain": [
              "         Name      Type\n",
              "0           9    Number\n",
              "1           x        ID\n",
              "2  myFunction  FUNCTION\n",
              "3         int   INTEGER"
            ]
          },
          "metadata": {},
          "execution_count": 15
        }
      ]
    },
    {
      "cell_type": "code",
      "source": [
        "getHashKey(df,'myFunction') #ord function.....hashcode"
      ],
      "metadata": {
        "colab": {
          "base_uri": "https://localhost:8080/"
        },
        "id": "fcpXrgWBwIU6",
        "outputId": "c533beff-ec0f-462e-f0eb-44b237727535"
      },
      "execution_count": null,
      "outputs": [
        {
          "output_type": "execute_result",
          "data": {
            "text/plain": [
              "2"
            ]
          },
          "metadata": {},
          "execution_count": 16
        }
      ]
    },
    {
      "cell_type": "markdown",
      "source": [
        "\n",
        "```\n",
        "#code limitation \n",
        "if i put any values with same name or type.... then it will delete the 1st one.\n",
        "if i add some new items then it will place into 1st position of dataframe\n",
        "```"
      ],
      "metadata": {
        "id": "mQrv1QOgzHrz"
      }
    },
    {
      "cell_type": "markdown",
      "source": [
        "---"
      ],
      "metadata": {
        "id": "LZcPWE4Vo4B6"
      }
    },
    {
      "cell_type": "markdown",
      "source": [
        "---"
      ],
      "metadata": {
        "id": "R9QNZKyXHTZc"
      }
    },
    {
      "cell_type": "code",
      "source": [
        "from pandas import DataFrame\n",
        "\n",
        "n = int(input(\"Enter the length of list: \"))\n",
        "print()\n",
        "table = [[] * n for i in range(n)]\n",
        "\n",
        "def hash(symbol):\n",
        "    total = 0\n",
        "    for i in symbol:\n",
        "        total += ord(i)\n",
        "    return total % len(table)\n",
        "\n",
        "while True:\n",
        "\n",
        "   print(\"1 - Insert\")\n",
        "   print(\"2 - Edit\")\n",
        "   print(\"3 - Remove\")\n",
        "   print(\"4 - Display\")\n",
        "   print(\"5 - Search\")\n",
        "   print(\"6 - Exit\")\n",
        "   print()\n",
        "\n",
        "   choice = input(\"Enter the number of choice: \")\n",
        "   print()\n",
        "\n",
        "   if choice == '1':\n",
        "       n=int(input(\"Enter No. of input: \"))\n",
        "       for i in range(n):\n",
        "           type,symbol = input(\"Enter the new type and name: \").split()\n",
        "           list=table[hash(symbol)]\n",
        "           k = False\n",
        "           m= False\n",
        "           for i, sublist in enumerate(list):\n",
        "                if symbol in sublist:\n",
        "                    k = True\n",
        "                    break       \n",
        "           if k:\n",
        "                print(\"already exits!! \")\n",
        "                continue\n",
        "           else:\n",
        "                list.append((symbol, type))\n",
        "                m = True\n",
        "                \n",
        "       if(m):\n",
        "           print()\n",
        "           print(\"Insertion Successfull\")\n",
        "                 \n",
        "       print()\n",
        "\n",
        "   elif choice == '2':\n",
        "       symbol= input(\"Enter the key to edit: \")\n",
        "       list=table[hash(symbol)]\n",
        "       m=True\n",
        "       if list:\n",
        "           for i, sublist  in enumerate(list):\n",
        "               if symbol in sublist:\n",
        "                   type= input(\"Enter the new type: \")\n",
        "                   list[i]=(symbol,type)\n",
        "                   print()\n",
        "                   print(\"Update Successful!\")\n",
        "                   break    \n",
        "               else:\n",
        "                   m=True \n",
        "       else:\n",
        "           print()\n",
        "           print(\"No such key\")\n",
        "           \n",
        "       if(m == False):\n",
        "           print()\n",
        "           print(\"No such key\")\n",
        "   elif choice == '3':\n",
        "       symbol= input(\"Enter the key to Delete: \")\n",
        "       list=table[hash(symbol)]\n",
        "       m=True\n",
        "       if list:\n",
        "           for i, sublist  in enumerate(list):\n",
        "               if symbol in sublist:\n",
        "                   del list[i]\n",
        "                   print()\n",
        "                   print(\"Delete Successful!\") \n",
        "               else:\n",
        "                   m=True     \n",
        "  \n",
        "       else:\n",
        "           print()\n",
        "           print(\"No such key\")\n",
        "       if(m == False):\n",
        "           print()\n",
        "           print(\"No such key\")\n",
        "\n",
        "   elif choice == '4':\n",
        "       print(DataFrame(table))\n",
        "\n",
        "   elif choice == '5':\n",
        "       symbol= input(\"Enter the key to Search: \")\n",
        "       list=table[hash(symbol)]\n",
        "       m=False\n",
        "       if list:\n",
        "           for i, sublist  in enumerate(list):\n",
        "               if symbol in sublist:\n",
        "                    print()\n",
        "                    print(\"Match Found!\")\n",
        "                    print()\n",
        "                    print(list[i],end=\" \")\n",
        "                    print(\"hash value \",\"is\",end=\" \")\n",
        "                    print(hash(symbol), end=\" \")\n",
        "                    print(\"subindex: \" , i)\n",
        "               else:\n",
        "                   m=True \n",
        "            \n",
        "       else:\n",
        "           print()\n",
        "           print(\"No such key\")   \n",
        "       \n",
        "       if(m == False):\n",
        "           print()\n",
        "           print(\"No such key\") \n",
        "               \n",
        "   elif choice == '6':\n",
        "       print()\n",
        "       print(\"Process Terminating!\")\n",
        "       break\n",
        "\n",
        "   else:\n",
        "      print(\"invalid Input\")\n",
        "\n",
        "   print()"
      ],
      "metadata": {
        "id": "klyaDikxo0w5"
      },
      "execution_count": null,
      "outputs": []
    },
    {
      "cell_type": "markdown",
      "source": [
        "---"
      ],
      "metadata": {
        "id": "1h1pbaatpYvn"
      }
    },
    {
      "cell_type": "markdown",
      "source": [
        "---"
      ],
      "metadata": {
        "id": "FiQrajKNHQkb"
      }
    },
    {
      "cell_type": "code",
      "source": [
        "import pandas as pd\n",
        "from pandas import DataFrame\n",
        "\n",
        "hashTable = [[] for _ in range (5)] # here, table = [[] * n for i in range(n)]"
      ],
      "metadata": {
        "id": "BI95TE2qpaiX"
      },
      "execution_count": null,
      "outputs": []
    },
    {
      "cell_type": "code",
      "source": [
        "#hash function according to name\n",
        "def hash(name):\n",
        "    name = sum(ord(c)for c in name) #calculation of sum using ord function\n",
        "    return name % len(hashTable) #return name mod with length of table"
      ],
      "metadata": {
        "id": "rXNh97CPqRvm"
      },
      "execution_count": null,
      "outputs": []
    },
    {
      "cell_type": "code",
      "source": [
        "#insert function according to name\n",
        "\n",
        "def insert (hashTable, name, type):       #Here the function of the insert function has been done where the data will be kept\n",
        "    hashkey = hash(name) #generate hash key according to name\n",
        "    keyIs = False\n",
        "    bucket = hashTable[hashkey] #list\n",
        "\n",
        "    for i, nt in enumerate (bucket): #nt = sublist\n",
        "        n, t = nt\n",
        "        if name == n:\n",
        "            keyIs = True\n",
        "            break\n",
        "\n",
        "    if keyIs:\n",
        "        bucket[i]((name,type))\n",
        "\n",
        "    else:\n",
        "        bucket.append((name, type))"
      ],
      "metadata": {
        "id": "44q60bLYt3F4"
      },
      "execution_count": null,
      "outputs": []
    },
    {
      "cell_type": "code",
      "source": [
        "#update function\n",
        "def update (hashTable, name, type):\n",
        "    hashkey=hash(name)\n",
        "    keiIs=False\n",
        "    bucket=hashTable[hashkey]\n",
        "\n",
        "    for i, nt in enumerate (bucket):\n",
        "        n, t=nt\n",
        "        if name==n:\n",
        "            keiIs=True\n",
        "            break\n",
        "            \n",
        "    if keiIs:\n",
        "        bucket[i]=((name,type))\n",
        "\n",
        "    else:\n",
        "        bucket.append((name, type))"
      ],
      "metadata": {
        "id": "uemb0qH_8Y2C"
      },
      "execution_count": null,
      "outputs": []
    },
    {
      "cell_type": "code",
      "source": [
        "#show function\n",
        "\n",
        "def show():\n",
        "    print(hashTable)"
      ],
      "metadata": {
        "id": "hchKbGql2bXN"
      },
      "execution_count": null,
      "outputs": []
    },
    {
      "cell_type": "code",
      "source": [
        "#delete function... data delete from hash table\n",
        "\n",
        "def delete (hashTable, name):\n",
        "    hashkey=hash(name)\n",
        "    keiIs=False\n",
        "    bucket=hashTable[hashkey]\n",
        "\n",
        "    for i, nt in enumerate (bucket):\n",
        "        n, t=nt\n",
        "        if name==n:\n",
        "            keiIs=True\n",
        "            break\n",
        "\n",
        "    if keiIs:\n",
        "        del bucket[i]\n",
        "\n",
        "    else:\n",
        "        print(\"No Such Name\")"
      ],
      "metadata": {
        "id": "YAb7cSzl2ngk"
      },
      "execution_count": null,
      "outputs": []
    },
    {
      "cell_type": "code",
      "source": [
        "#search function\n",
        "\n",
        "def search (hashTable, name):\n",
        "    hashkey=hash(name)\n",
        "    keiIs=False\n",
        "    bucket=hashTable[hashkey]\n",
        "\n",
        "    for i, nt in enumerate (bucket):\n",
        "        n, t=nt\n",
        "        if name==n:\n",
        "           return n, t"
      ],
      "metadata": {
        "id": "vj9yApTw23aP"
      },
      "execution_count": null,
      "outputs": []
    },
    {
      "cell_type": "code",
      "source": [
        "show()"
      ],
      "metadata": {
        "colab": {
          "base_uri": "https://localhost:8080/"
        },
        "id": "vbV6C9lH3oFz",
        "outputId": "fc91a775-480a-48cb-8bd1-39196ce56d4a"
      },
      "execution_count": null,
      "outputs": [
        {
          "output_type": "stream",
          "name": "stdout",
          "text": [
            "[[], [], [], [], []]\n"
          ]
        }
      ]
    },
    {
      "cell_type": "code",
      "source": [
        "#insert values\n",
        "\n",
        "insert(hashTable,\"int\",\"INTEGER\")\n",
        "insert(hashTable,\"myFunction\",\"FUNCTION\")\n",
        "insert(hashTable,\"x\" ,\"ID\")\n",
        "insert(hashTable,\"5\" ,\"NUM\")\n",
        "insert(hashTable, \"Rafsan\", \"18101009\")\n",
        "show()"
      ],
      "metadata": {
        "colab": {
          "base_uri": "https://localhost:8080/"
        },
        "id": "x6VoRKOd3uhR",
        "outputId": "b8012e1f-9442-4247-f39e-0587d8f03bb8"
      },
      "execution_count": null,
      "outputs": [
        {
          "output_type": "stream",
          "name": "stdout",
          "text": [
            "[[('x', 'ID')], [('int', 'INTEGER')], [], [('myFunction', 'FUNCTION'), ('5', 'NUM'), ('Rafsan', '18101009')], []]\n"
          ]
        }
      ]
    },
    {
      "cell_type": "code",
      "source": [
        "#hash value show\n",
        "\n",
        "print(hash(\"5\")) # Hash \n",
        "print(\"O\")"
      ],
      "metadata": {
        "colab": {
          "base_uri": "https://localhost:8080/"
        },
        "id": "z2itAR6460d3",
        "outputId": "572e3205-2a42-4f80-ab83-6b844ac9247a"
      },
      "execution_count": null,
      "outputs": [
        {
          "output_type": "stream",
          "name": "stdout",
          "text": [
            "3\n",
            "O\n"
          ]
        }
      ]
    },
    {
      "cell_type": "code",
      "source": [
        "#update the table input data\n",
        "update(hashTable,\"5\",\"1971\")\n",
        "show()"
      ],
      "metadata": {
        "colab": {
          "base_uri": "https://localhost:8080/"
        },
        "id": "p9UVD-4X7JnE",
        "outputId": "2f71c240-7f12-4774-fb3b-a60a2a88aa8d"
      },
      "execution_count": null,
      "outputs": [
        {
          "output_type": "stream",
          "name": "stdout",
          "text": [
            "[[('x', 'ID')], [('int', 'INTEGER')], [], [('myFunction', 'FUNCTION'), ('5', '1971'), ('Rafsan', '18101009')], []]\n"
          ]
        }
      ]
    },
    {
      "cell_type": "code",
      "source": [
        "#search of data\n",
        "\n",
        "print(search(hashTable, \"myFunction\"))"
      ],
      "metadata": {
        "colab": {
          "base_uri": "https://localhost:8080/"
        },
        "id": "dU60PWjn7W8w",
        "outputId": "8e40d1b2-5a9f-4bb2-a6af-c5242e3b9a1d"
      },
      "execution_count": null,
      "outputs": [
        {
          "output_type": "stream",
          "name": "stdout",
          "text": [
            "('myFunction', 'FUNCTION')\n"
          ]
        }
      ]
    },
    {
      "cell_type": "code",
      "source": [
        "#delete hash table data\n",
        "delete(hashTable,\"int\")\n",
        "show()"
      ],
      "metadata": {
        "colab": {
          "base_uri": "https://localhost:8080/"
        },
        "id": "4yWjJ0wy7abB",
        "outputId": "0ee87f2f-ffd4-4253-c378-c8dbe7c0006a"
      },
      "execution_count": null,
      "outputs": [
        {
          "output_type": "stream",
          "name": "stdout",
          "text": [
            "[[('x', 'ID')], [], [], [('myFunction', 'FUNCTION'), ('5', '1971'), ('Rafsan', '18101009')], []]\n"
          ]
        }
      ]
    },
    {
      "cell_type": "markdown",
      "source": [
        "---"
      ],
      "metadata": {
        "id": "snCU6zje-Op-"
      }
    },
    {
      "cell_type": "markdown",
      "source": [
        "---"
      ],
      "metadata": {
        "id": "d6srAR8VHNdD"
      }
    },
    {
      "cell_type": "code",
      "source": [
        "Table_length = 4\n",
        "hashTable = [[] for _ in range(Table_length)]\n",
        "\n",
        "def insert_data(myData):\n",
        "    x, y = myData\n",
        "    pos = ord(x[0]) % Table_length\n",
        "    hashTable[pos].append(myData)\n",
        "    return\n",
        "\n",
        "def search_data_name(name):\n",
        "    pos = ord(name[0]) % Table_length\n",
        "    print(name)\n",
        "    for each_data in hashTable[pos]:\n",
        "        x, y = each_data\n",
        "        if x == name:\n",
        "            print(\"Name {} , Hash value {}\".format(x, pos))\n",
        "            return\n",
        "\n",
        "\n",
        "def delete_by_name(name):\n",
        "    pos = ord(name[0]) % Table_length\n",
        "\n",
        "    for each_data in hashTable[pos]:\n",
        "        x, y = each_data\n",
        "        if x == name:\n",
        "            hashTable[pos].remove(each_data)\n",
        "            return\n",
        "\n",
        "def show_hash_table():\n",
        "\n",
        "    for i in range(Table_length):\n",
        "        print(\"Hash {} Table {}\".format(i, hashTable[i]))\n",
        "    return\n",
        "\n",
        "\n",
        "def update_data_name(name, t):\n",
        "    pos = ord(name[0]) % Table_length\n",
        "\n",
        "    for each_data in hashTable[pos]:\n",
        "        x, y = each_data\n",
        "        if x == name:\n",
        "            hashTable[pos].remove(each_data)\n",
        "            hashTable[pos].append([name, t])\n",
        "            return\n",
        "\n",
        "while True:\n",
        "    command = int(input('Enter input: '))\n",
        "\n",
        "    if command == 1:\n",
        "        try:\n",
        "            a = input('Enter data: ').split(',')\n",
        "            insert_data(a)\n",
        "        except Exception as e:\n",
        "            print(\"Can not insert\", e)\n",
        "\n",
        "    elif command == 2:\n",
        "        try:\n",
        "            a = input(\"Enter name: \")\n",
        "            search_data_name(a)\n",
        "        except Exception as e:\n",
        "            print(\"Data not Found\")\n",
        "\n",
        "\n",
        "    elif command == 3:\n",
        "        try:\n",
        "            a = input(\"Enter name: \")\n",
        "            delete_by_name(a)\n",
        "        except Exception as e:\n",
        "            print('Can not delete')\n",
        "\n",
        "    elif command == 4:\n",
        "        show_hash_table()\n",
        "\n",
        "    elif command == 5:\n",
        "        name = input(\"Enter name: \")\n",
        "        t = input(\"Enter update: \")\n",
        "        try:\n",
        "            update_data_name(name, t)\n",
        "        except Exception as e:\n",
        "            print('Can not update')\n",
        "\n",
        "    elif command == 6:\n",
        "        break"
      ],
      "metadata": {
        "colab": {
          "base_uri": "https://localhost:8080/"
        },
        "id": "iQAo9yd9-Qdt",
        "outputId": "f32c2b99-3226-46da-8b7b-dd3969243410"
      },
      "execution_count": null,
      "outputs": [
        {
          "name": "stdout",
          "output_type": "stream",
          "text": [
            "Enter input: 1\n",
            "Enter data: int,INTEGER\n",
            "Enter input: 1\n",
            "Enter data: x,ID\n",
            "Enter input: 1\n",
            "Enter data: myFunction,FUNCTION\n",
            "Enter input: 1\n",
            "Enter data: 5,NUM\n",
            "Enter input: 1\n",
            "Enter data: rafsan,18101009\n",
            "Enter input: 4\n",
            "Hash 0 Table [['x', 'ID']]\n",
            "Hash 1 Table [['int', 'INTEGER'], ['myFunction', 'FUNCTION'], ['5', 'NUM']]\n",
            "Hash 2 Table [['rafsan', '18101009']]\n",
            "Hash 3 Table []\n",
            "Enter input: 1\n",
            "Enter data: CSE429,Compiler\n",
            "Enter input: 1\n",
            "Enter data: CSE430,CompilerLab\n",
            "Enter input: 4\n",
            "Hash 0 Table [['x', 'ID']]\n",
            "Hash 1 Table [['int', 'INTEGER'], ['myFunction', 'FUNCTION'], ['5', 'NUM']]\n",
            "Hash 2 Table [['rafsan', '18101009']]\n",
            "Hash 3 Table [['CSE429', 'Compiler'], ['CSE430', 'CompilerLab']]\n",
            "Enter input: 1\n",
            "Enter data: tahsin, STRING\n",
            "Enter input: 4\n",
            "Hash 0 Table [['x', 'ID'], ['tahsin', ' STRING']]\n",
            "Hash 1 Table [['int', 'INTEGER'], ['myFunction', 'FUNCTION'], ['5', 'NUM']]\n",
            "Hash 2 Table [['rafsan', '18101009']]\n",
            "Hash 3 Table [['CSE429', 'Compiler'], ['CSE430', 'CompilerLab']]\n",
            "Enter input: 1\n",
            "Enter data: rayat,2\n",
            "Enter input: 4\n",
            "Hash 0 Table [['x', 'ID'], ['tahsin', ' STRING']]\n",
            "Hash 1 Table [['int', 'INTEGER'], ['myFunction', 'FUNCTION'], ['5', 'NUM']]\n",
            "Hash 2 Table [['rafsan', '18101009'], ['rayat', '2']]\n",
            "Hash 3 Table [['CSE429', 'Compiler'], ['CSE430', 'CompilerLab']]\n",
            "Enter input: 2\n",
            "Enter name: CSE430\n",
            "CSE430\n",
            "Name CSE430 , Hash value 3\n",
            "Enter input: 2\n",
            "Enter name: rafsan\n",
            "rafsan\n",
            "Name rafsan , Hash value 2\n",
            "Enter input: 3\n",
            "Enter name: rayat\n",
            "Enter input: 4\n",
            "Hash 0 Table [['x', 'ID'], ['tahsin', ' STRING']]\n",
            "Hash 1 Table [['int', 'INTEGER'], ['myFunction', 'FUNCTION'], ['5', 'NUM']]\n",
            "Hash 2 Table [['rafsan', '18101009']]\n",
            "Hash 3 Table [['CSE429', 'Compiler'], ['CSE430', 'CompilerLab']]\n",
            "Enter input: 5\n",
            "Enter name: 5\n",
            "Enter update: 9\n",
            "Enter input: 4\n",
            "Hash 0 Table [['x', 'ID'], ['tahsin', ' STRING']]\n",
            "Hash 1 Table [['int', 'INTEGER'], ['myFunction', 'FUNCTION'], ['5', '9']]\n",
            "Hash 2 Table [['rafsan', '18101009']]\n",
            "Hash 3 Table [['CSE429', 'Compiler'], ['CSE430', 'CompilerLab']]\n",
            "Enter input: 6\n"
          ]
        }
      ]
    }
  ]
}